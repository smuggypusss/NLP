{
  "nbformat": 4,
  "nbformat_minor": 0,
  "metadata": {
    "colab": {
      "provenance": [],
      "gpuType": "T4",
      "authorship_tag": "ABX9TyOM5kaDbKyABKfdvP/zt78q",
      "include_colab_link": true
    },
    "kernelspec": {
      "name": "python3",
      "display_name": "Python 3"
    },
    "language_info": {
      "name": "python"
    },
    "accelerator": "GPU"
  },
  "cells": [
    {
      "cell_type": "markdown",
      "metadata": {
        "id": "view-in-github",
        "colab_type": "text"
      },
      "source": [
        "<a href=\"https://colab.research.google.com/github/smuggypusss/NLP/blob/main/word_embedding.ipynb\" target=\"_parent\"><img src=\"https://colab.research.google.com/assets/colab-badge.svg\" alt=\"Open In Colab\"/></a>"
      ]
    },
    {
      "cell_type": "code",
      "execution_count": null,
      "metadata": {
        "id": "4m4o4_ho4BvU"
      },
      "outputs": [],
      "source": [
        "from tensorflow.keras.preprocessing.text import one_hot"
      ]
    },
    {
      "cell_type": "code",
      "source": [
        "sent=[  'the glass of milk',\n",
        "     'the glass of juice',\n",
        "     'the cup of tea',\n",
        "    'I am a good boy',\n",
        "     'I am a good developer',\n",
        "     'understand the meaning of words',\n",
        "     'your videos are good',\n",
        "      'the bussy boy is good']"
      ],
      "metadata": {
        "id": "51gXMxxV5r80"
      },
      "execution_count": null,
      "outputs": []
    },
    {
      "cell_type": "code",
      "source": [
        "import tensorflow as tf\n",
        "print(tf.__version__)"
      ],
      "metadata": {
        "colab": {
          "base_uri": "https://localhost:8080/"
        },
        "id": "7bH-b6bb53L8",
        "outputId": "9707aa81-0370-404a-b2a5-de5b4ce85fd8"
      },
      "execution_count": null,
      "outputs": [
        {
          "output_type": "stream",
          "name": "stdout",
          "text": [
            "2.12.0\n"
          ]
        }
      ]
    },
    {
      "cell_type": "code",
      "source": [
        "#vocabulary size\n",
        "voc_size=10000"
      ],
      "metadata": {
        "id": "eFNfF8Vf6MjR"
      },
      "execution_count": null,
      "outputs": []
    },
    {
      "cell_type": "code",
      "source": [
        "onehot_repr=[one_hot(words,voc_size)for words in sent]\n",
        "print(onehot_repr)"
      ],
      "metadata": {
        "colab": {
          "base_uri": "https://localhost:8080/"
        },
        "id": "ossbQ8Vu7BW0",
        "outputId": "df859d4f-e5bd-46e0-8186-396104fb56f9"
      },
      "execution_count": null,
      "outputs": [
        {
          "output_type": "stream",
          "name": "stdout",
          "text": [
            "[[2264, 2485, 3361, 7761], [2264, 2485, 3361, 5702], [2264, 8791, 3361, 2120], [4486, 404, 5320, 6814, 1066], [4486, 404, 5320, 6814, 6803], [3048, 2264, 575, 3361, 8910], [6106, 5919, 64, 6814], [2264, 6957, 1066, 5979, 6814]]\n"
          ]
        }
      ]
    },
    {
      "cell_type": "code",
      "source": [
        "from tensorflow.keras.layers import Embedding\n",
        "from tensorflow.keras.preprocessing.sequence import pad_sequences\n",
        "from tensorflow.keras.models import Sequential"
      ],
      "metadata": {
        "id": "r6Hh3ouo749v"
      },
      "execution_count": null,
      "outputs": []
    },
    {
      "cell_type": "code",
      "source": [
        "import numpy as np"
      ],
      "metadata": {
        "id": "HZHe_ZHY_TAk"
      },
      "execution_count": null,
      "outputs": []
    },
    {
      "cell_type": "code",
      "source": [
        "#pre-padding\n",
        "sent_len=15\n",
        "embedded_docs=pad_sequences(onehot_repr,padding='pre',maxlen=sent_len)\n",
        "print(embedded_docs)"
      ],
      "metadata": {
        "colab": {
          "base_uri": "https://localhost:8080/"
        },
        "id": "UvHro9W3_WTd",
        "outputId": "e950f354-f06c-4f17-ffc0-d8d0f99294c0"
      },
      "execution_count": null,
      "outputs": [
        {
          "output_type": "stream",
          "name": "stdout",
          "text": [
            "[[   0    0    0    0    0    0    0    0    0    0    0 2264 2485 3361\n",
            "  7761]\n",
            " [   0    0    0    0    0    0    0    0    0    0    0 2264 2485 3361\n",
            "  5702]\n",
            " [   0    0    0    0    0    0    0    0    0    0    0 2264 8791 3361\n",
            "  2120]\n",
            " [   0    0    0    0    0    0    0    0    0    0 4486  404 5320 6814\n",
            "  1066]\n",
            " [   0    0    0    0    0    0    0    0    0    0 4486  404 5320 6814\n",
            "  6803]\n",
            " [   0    0    0    0    0    0    0    0    0    0 3048 2264  575 3361\n",
            "  8910]\n",
            " [   0    0    0    0    0    0    0    0    0    0    0 6106 5919   64\n",
            "  6814]\n",
            " [   0    0    0    0    0    0    0    0    0    0 2264 6957 1066 5979\n",
            "  6814]]\n"
          ]
        }
      ]
    },
    {
      "cell_type": "code",
      "source": [
        "#10 feature dimensions\n",
        "dim=10"
      ],
      "metadata": {
        "id": "3KeWfPY3_ugB"
      },
      "execution_count": null,
      "outputs": []
    },
    {
      "cell_type": "code",
      "source": [
        "model=Sequential()\n",
        "model.add(Embedding(voc_size,10,input_length=sent_len))\n",
        "model.compile('adam','mse')"
      ],
      "metadata": {
        "id": "Oi7n4A-5AEFh"
      },
      "execution_count": null,
      "outputs": []
    },
    {
      "cell_type": "code",
      "source": [
        "model.summary()"
      ],
      "metadata": {
        "colab": {
          "base_uri": "https://localhost:8080/"
        },
        "id": "N7FHrwRuA1NZ",
        "outputId": "8497928c-0622-4279-9235-09c927aa52bd"
      },
      "execution_count": null,
      "outputs": [
        {
          "output_type": "stream",
          "name": "stdout",
          "text": [
            "Model: \"sequential_1\"\n",
            "_________________________________________________________________\n",
            " Layer (type)                Output Shape              Param #   \n",
            "=================================================================\n",
            " embedding_1 (Embedding)     (None, 15, 10)            100000    \n",
            "                                                                 \n",
            "=================================================================\n",
            "Total params: 100,000\n",
            "Trainable params: 100,000\n",
            "Non-trainable params: 0\n",
            "_________________________________________________________________\n"
          ]
        }
      ]
    },
    {
      "cell_type": "code",
      "source": [
        "print(model.predict(embedded_docs))"
      ],
      "metadata": {
        "colab": {
          "base_uri": "https://localhost:8080/"
        },
        "id": "kgYJgrSLA34P",
        "outputId": "57e70c36-fa33-4c1d-fd3e-905b6842ecff"
      },
      "execution_count": null,
      "outputs": [
        {
          "output_type": "stream",
          "name": "stdout",
          "text": [
            "1/1 [==============================] - 0s 36ms/step\n",
            "[[[-0.02084755  0.01431913 -0.04357711 ... -0.00118488  0.03273738\n",
            "    0.00060527]\n",
            "  [-0.02084755  0.01431913 -0.04357711 ... -0.00118488  0.03273738\n",
            "    0.00060527]\n",
            "  [-0.02084755  0.01431913 -0.04357711 ... -0.00118488  0.03273738\n",
            "    0.00060527]\n",
            "  ...\n",
            "  [-0.02689007  0.0080313   0.04903872 ...  0.00537146  0.0126054\n",
            "   -0.02714684]\n",
            "  [-0.04453028  0.03612772  0.03105391 ... -0.03858169  0.00932296\n",
            "    0.04061263]\n",
            "  [ 0.0477109  -0.00431972 -0.01216178 ...  0.01877152 -0.02534884\n",
            "    0.00016838]]\n",
            "\n",
            " [[-0.02084755  0.01431913 -0.04357711 ... -0.00118488  0.03273738\n",
            "    0.00060527]\n",
            "  [-0.02084755  0.01431913 -0.04357711 ... -0.00118488  0.03273738\n",
            "    0.00060527]\n",
            "  [-0.02084755  0.01431913 -0.04357711 ... -0.00118488  0.03273738\n",
            "    0.00060527]\n",
            "  ...\n",
            "  [-0.02689007  0.0080313   0.04903872 ...  0.00537146  0.0126054\n",
            "   -0.02714684]\n",
            "  [-0.04453028  0.03612772  0.03105391 ... -0.03858169  0.00932296\n",
            "    0.04061263]\n",
            "  [ 0.01963916 -0.03691051  0.03931743 ...  0.03472748  0.042966\n",
            "   -0.00685596]]\n",
            "\n",
            " [[-0.02084755  0.01431913 -0.04357711 ... -0.00118488  0.03273738\n",
            "    0.00060527]\n",
            "  [-0.02084755  0.01431913 -0.04357711 ... -0.00118488  0.03273738\n",
            "    0.00060527]\n",
            "  [-0.02084755  0.01431913 -0.04357711 ... -0.00118488  0.03273738\n",
            "    0.00060527]\n",
            "  ...\n",
            "  [ 0.03119788  0.0264628   0.03133328 ...  0.04499329  0.00461432\n",
            "    0.0263041 ]\n",
            "  [-0.04453028  0.03612772  0.03105391 ... -0.03858169  0.00932296\n",
            "    0.04061263]\n",
            "  [ 0.02062907  0.03001687  0.03662677 ... -0.02504995  0.04649476\n",
            "    0.01340974]]\n",
            "\n",
            " ...\n",
            "\n",
            " [[-0.02084755  0.01431913 -0.04357711 ... -0.00118488  0.03273738\n",
            "    0.00060527]\n",
            "  [-0.02084755  0.01431913 -0.04357711 ... -0.00118488  0.03273738\n",
            "    0.00060527]\n",
            "  [-0.02084755  0.01431913 -0.04357711 ... -0.00118488  0.03273738\n",
            "    0.00060527]\n",
            "  ...\n",
            "  [ 0.00521381  0.02122309  0.04460183 ... -0.04446218 -0.01881654\n",
            "    0.02078627]\n",
            "  [-0.04453028  0.03612772  0.03105391 ... -0.03858169  0.00932296\n",
            "    0.04061263]\n",
            "  [ 0.03991466  0.04860277  0.04918366 ... -0.04283176  0.0346924\n",
            "    0.01838342]]\n",
            "\n",
            " [[-0.02084755  0.01431913 -0.04357711 ... -0.00118488  0.03273738\n",
            "    0.00060527]\n",
            "  [-0.02084755  0.01431913 -0.04357711 ... -0.00118488  0.03273738\n",
            "    0.00060527]\n",
            "  [-0.02084755  0.01431913 -0.04357711 ... -0.00118488  0.03273738\n",
            "    0.00060527]\n",
            "  ...\n",
            "  [ 0.03082294 -0.044036   -0.03811087 ...  0.01227959 -0.01019001\n",
            "   -0.03449758]\n",
            "  [ 0.01764378 -0.03005643  0.04066839 ...  0.00722909  0.0161976\n",
            "    0.04471542]\n",
            "  [-0.00507758  0.0242652   0.01778615 ... -0.03480534 -0.04785956\n",
            "    0.036851  ]]\n",
            "\n",
            " [[-0.02084755  0.01431913 -0.04357711 ... -0.00118488  0.03273738\n",
            "    0.00060527]\n",
            "  [-0.02084755  0.01431913 -0.04357711 ... -0.00118488  0.03273738\n",
            "    0.00060527]\n",
            "  [-0.02084755  0.01431913 -0.04357711 ... -0.00118488  0.03273738\n",
            "    0.00060527]\n",
            "  ...\n",
            "  [-0.02714657 -0.03176145  0.04989233 ... -0.02997642  0.00756428\n",
            "    0.04861953]\n",
            "  [-0.01379094  0.02833701  0.02068791 ...  0.01270143  0.01182461\n",
            "    0.00660739]\n",
            "  [-0.00507758  0.0242652   0.01778615 ... -0.03480534 -0.04785956\n",
            "    0.036851  ]]]\n"
          ]
        }
      ]
    },
    {
      "cell_type": "code",
      "source": [],
      "metadata": {
        "id": "PXuFcRtSDFdY"
      },
      "execution_count": null,
      "outputs": []
    }
  ]
}